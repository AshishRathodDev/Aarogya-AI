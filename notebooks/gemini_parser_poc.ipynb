{
 "cells": [
  {
   "cell_type": "code",
   "execution_count": null,
   "id": "cd5959da-3bf6-4476-8cdf-85dc3d5a02b7",
   "metadata": {},
   "outputs": [],
   "source": []
  },
  {
   "cell_type": "code",
   "execution_count": 1,
   "id": "21929a7b-39bd-4e65-9029-f7971c0d53c2",
   "metadata": {},
   "outputs": [],
   "source": [
    "import os\n",
    "import json\n",
    "import google.generativeai as genai\n"
   ]
  },
  {
   "cell_type": "code",
   "execution_count": null,
   "id": "93ff2877-84d9-4e87-a5ef-036de5ccd6f1",
   "metadata": {},
   "outputs": [],
   "source": []
  },
  {
   "cell_type": "code",
   "execution_count": 2,
   "id": "19a059d6-cf7a-4e19-b97d-43542ce08895",
   "metadata": {},
   "outputs": [],
   "source": [
    "# --- CONFIGURATION ---\n",
    "\n",
    "CREDENTIALS_FILE = '/Users/ashishrathore/Aarogya-AI/crack-decorator-468911-s1-5ab46e3aea4b.json' \n"
   ]
  },
  {
   "cell_type": "code",
   "execution_count": null,
   "id": "5b55eac9-dc97-447c-8e54-fcccd0a01798",
   "metadata": {},
   "outputs": [],
   "source": []
  },
  {
   "cell_type": "code",
   "execution_count": 3,
   "id": "0a622107-2eb1-4555-afda-db638673b4e0",
   "metadata": {},
   "outputs": [],
   "source": [
    "# --- SETUP ---\n",
    "\n",
    "os.environ['GOOGLE_APPLICATION_CREDENTIALS'] = CREDENTIALS_FILE\n",
    "\n",
    "genai.configure(transport='rest')\n"
   ]
  },
  {
   "cell_type": "code",
   "execution_count": null,
   "id": "d844c0f7-b3f2-466b-926f-8f098a9fa712",
   "metadata": {},
   "outputs": [],
   "source": []
  },
  {
   "cell_type": "code",
   "execution_count": 4,
   "id": "230b6500-0cb0-4132-b9b7-1a6a0d31ea2e",
   "metadata": {},
   "outputs": [],
   "source": [
    "# --- RAW TEXT (Yeh humare Station 1 - Google Vision se aaya hai) ---\n",
    "raw_text_from_report = \"\"\"\n",
    "DRLOGY PATHOLOGY LAB\n",
    "Accurate Caring | Instant\n",
    "0123456789 | 0912345678\n",
    "drlogypathlab@drlogy.com\n",
    "105-108, SMART VISION COMPLEX, HEALTHCARE ROAD, OPPOSITE HEALTHCARE COMPLEX. MUMBAI - 689578\n",
    "\n",
    "Yashvi M. Patel\n",
    "Age: 21 Years\n",
    "Sex: Female\n",
    "UHID: 556\n",
    "Sample Collected At:\n",
    "125, Shiv complex, S G Road, Mumbai\n",
    "Sample Collected By: Mr Suresh\n",
    "Ref. By: Dr. Hiren Shah\n",
    "\n",
    "LIPID PROFILE\n",
    "Investigation      Result    Reference Value\n",
    "Total Cholesterol  150.0     <200 mg/dL\n",
    "Triglycerides      100.0     <150 mg/dL\n",
    "HDL Cholesterol    50.0      >40 mg/dL\n",
    "LDL Cholesterol    80.0      <100 mg/dL\n",
    "VLDL Cholesterol   20.0      <30 mg/dL\n",
    "\n",
    "HEMOGRAM\n",
    "Hemoglobin         14.5 g/dL  13.0-17.0\n",
    "RBC Count          4.8 M/uL   4.5-5.5\n",
    "\"\"\""
   ]
  },
  {
   "cell_type": "code",
   "execution_count": null,
   "id": "01fec1e7-2f54-42ae-938c-e583d61da673",
   "metadata": {},
   "outputs": [],
   "source": []
  },
  {
   "cell_type": "code",
   "execution_count": 5,
   "id": "8322ee8d-de81-4e9d-bf6e-de89d0d1b004",
   "metadata": {},
   "outputs": [],
   "source": [
    "# --- INSTRUCTIONS FOR THE AI (Prompt Engineering for Gemini) ---\n",
    "system_prompt = \"\"\"\n",
    "You are an expert AI system for parsing medical lab reports.\n",
    "Your task is to extract specific medical information from the provided text.\n",
    "The output MUST be a valid JSON object. Do not add any text or markdown formatting like ```json before or after the JSON.\n",
    "The JSON object should have two main keys: 'patient_details' and 'test_results'.\n",
    "\n",
    "'patient_details' should be an object containing: 'name', 'age', and 'sex'.\n",
    "'test_results' should be an array of objects. Each object represents a single test and must contain:\n",
    "- 'test_name': The name of the test (e.g., \"Total Cholesterol\").\n",
    "- 'result': The numerical value of the test result. Convert it to a float.\n",
    "- 'unit': The unit of measurement (e.g., \"mg/dL\").\n",
    "- 'reference_range': The reference value or range for the test.\n",
    "\n",
    "If any value is not found, use null.\n",
    "\"\"\"\n"
   ]
  },
  {
   "cell_type": "code",
   "execution_count": null,
   "id": "e3d50053-1c80-4c01-aac8-73519c918667",
   "metadata": {},
   "outputs": [],
   "source": []
  },
  {
   "cell_type": "code",
   "execution_count": 6,
   "id": "16f1b683-4fbb-4087-8e01-8f5cdff4ab57",
   "metadata": {},
   "outputs": [
    {
     "name": "stdout",
     "output_type": "stream",
     "text": [
      "--- Sending raw text to Google Gemini AI ---\n",
      "--- ✅ AI has extracted the following structured data (JSON) ---\n",
      "{\"patient_details\": {\"name\": \"Yashvi M. Patel\", \"age\": 21, \"sex\": \"Female\"}, \"test_results\": [{\"test_name\": \"Total Cholesterol\", \"result\": 150.0, \"unit\": \"mg/dL\", \"reference_range\": \"<200 mg/dL\"}, {\"test_name\": \"Triglycerides\", \"result\": 100.0, \"unit\": \"mg/dL\", \"reference_range\": \"<150 mg/dL\"}, {\"test_name\": \"HDL Cholesterol\", \"result\": 50.0, \"unit\": \"mg/dL\", \"reference_range\": \">40 mg/dL\"}, {\"test_name\": \"LDL Cholesterol\", \"result\": 80.0, \"unit\": \"mg/dL\", \"reference_range\": \"<100 mg/dL\"}, {\"test_name\": \"VLDL Cholesterol\", \"result\": 20.0, \"unit\": \"mg/dL\", \"reference_range\": \"<30 mg/dL\"}, {\"test_name\": \"Hemoglobin\", \"result\": 14.5, \"unit\": \"g/dL\", \"reference_range\": \"13.0-17.0\"}, {\"test_name\": \"RBC Count\", \"result\": 4.8, \"unit\": \"M/uL\", \"reference_range\": \"4.5-5.5\"}]}\n",
      "\n",
      "\n",
      "--- Patient Details ---\n",
      "Name: Yashvi M. Patel\n",
      "Age: 21\n",
      "Sex: Female\n",
      "\n",
      "--- Test Results ---\n",
      "Test: Total Cholesterol, Result: 150.0 mg/dL\n",
      "Test: Triglycerides, Result: 100.0 mg/dL\n",
      "Test: HDL Cholesterol, Result: 50.0 mg/dL\n",
      "Test: LDL Cholesterol, Result: 80.0 mg/dL\n",
      "Test: VLDL Cholesterol, Result: 20.0 mg/dL\n",
      "Test: Hemoglobin, Result: 14.5 g/dL\n",
      "Test: RBC Count, Result: 4.8 M/uL\n"
     ]
    }
   ],
   "source": [
    "# --- SENDING THE MESSAGE TO GEMINI ---\n",
    "print(\"--- Sending raw text to Google Gemini AI ---\")\n",
    "try:\n",
    "\n",
    "    model = genai.GenerativeModel(\n",
    "        'gemini-1.5-flash',\n",
    "        generation_config=genai.GenerationConfig(\n",
    "            response_mime_type=\"application/json\"\n",
    "        )\n",
    "    )\n",
    "    \n",
    "\n",
    "    response = model.generate_content([system_prompt, raw_text_from_report])\n",
    "    \n",
    "    # --- VIEWING THE RESULT ---\n",
    "    extracted_data_text = response.text\n",
    "    print(\"--- ✅ AI has extracted the following structured data (JSON) ---\")\n",
    "    print(extracted_data_text)\n",
    "    \n",
    "    # --- BONUS: Nicely formatted output ---\n",
    "    parsed_json = json.loads(extracted_data_text)\n",
    "\n",
    "    print(\"\\n\\n--- Patient Details ---\")\n",
    "    print(f\"Name: {parsed_json.get('patient_details', {}).get('name', 'N/A')}\")\n",
    "    print(f\"Age: {parsed_json.get('patient_details', {}).get('age', 'N/A')}\")\n",
    "    print(f\"Sex: {parsed_json.get('patient_details', {}).get('sex', 'N/A')}\")\n",
    "\n",
    "    print(\"\\n--- Test Results ---\")\n",
    "    if parsed_json.get('test_results'):\n",
    "        for test in parsed_json.get('test_results', []):\n",
    "            print(f\"Test: {test.get('test_name', 'N/A')}, Result: {test.get('result', 'N/A')} {test.get('unit', '')}\")\n",
    "    else:\n",
    "        print(\"No test results found.\")\n",
    "\n",
    "\n",
    "except Exception as e:\n",
    "    print(f\"\\n--- ❌ An error occurred ---\")\n",
    "    print(e)"
   ]
  },
  {
   "cell_type": "code",
   "execution_count": null,
   "id": "f1ebea5d-ef4c-4a30-83f3-07880e90a3ab",
   "metadata": {},
   "outputs": [],
   "source": []
  },
  {
   "cell_type": "code",
   "execution_count": null,
   "id": "19cc4dab-18d4-4636-bd15-f42c84584faa",
   "metadata": {},
   "outputs": [],
   "source": []
  },
  {
   "cell_type": "code",
   "execution_count": null,
   "id": "1809aaf7-1d13-426d-917f-0703deec5c3c",
   "metadata": {},
   "outputs": [],
   "source": []
  },
  {
   "cell_type": "code",
   "execution_count": null,
   "id": "e3c167e2-157e-4325-9615-611fdc252adb",
   "metadata": {},
   "outputs": [],
   "source": []
  },
  {
   "cell_type": "code",
   "execution_count": null,
   "id": "91649b4d-0aad-4387-ba4c-9f0b2a66d2db",
   "metadata": {},
   "outputs": [],
   "source": []
  },
  {
   "cell_type": "code",
   "execution_count": null,
   "id": "f2915fc6-2c37-464f-b33e-2b67d47fd749",
   "metadata": {},
   "outputs": [],
   "source": []
  },
  {
   "cell_type": "code",
   "execution_count": null,
   "id": "04dacc17-e54a-48dc-81fa-dec039e0ffb7",
   "metadata": {},
   "outputs": [],
   "source": []
  },
  {
   "cell_type": "code",
   "execution_count": null,
   "id": "5fd7ff01-41cc-4e0a-87ec-aa22bac29a6e",
   "metadata": {},
   "outputs": [],
   "source": []
  }
 ],
 "metadata": {
  "kernelspec": {
   "display_name": "Python 3 (m1env)",
   "language": "python",
   "name": "m1env"
  },
  "language_info": {
   "codemirror_mode": {
    "name": "ipython",
    "version": 3
   },
   "file_extension": ".py",
   "mimetype": "text/x-python",
   "name": "python",
   "nbconvert_exporter": "python",
   "pygments_lexer": "ipython3",
   "version": "3.9.21"
  }
 },
 "nbformat": 4,
 "nbformat_minor": 5
}
