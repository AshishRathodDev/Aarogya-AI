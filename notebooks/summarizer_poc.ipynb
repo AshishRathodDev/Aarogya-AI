{
 "cells": [
  {
   "cell_type": "code",
   "execution_count": 38,
   "id": "1662941b-6b5d-43b3-8ca4-0388ac1d2cee",
   "metadata": {},
   "outputs": [
    {
     "name": "stdout",
     "output_type": "stream",
     "text": [
      "Libraries imported and display options set.\n"
     ]
    }
   ],
   "source": [
    "import os\n",
    "import google.generativeai as genai\n",
    "import pandas as pd\n",
    "from typing import Dict, Any, Union, Optional\n",
    "\n",
    "\n",
    "pd.set_option('display.max_rows', 100)\n",
    "pd.set_option('display.max_columns', 50)\n",
    "pd.set_option('display.width', 150)\n",
    "\n",
    "print(\"Libraries imported and display options set.\")"
   ]
  },
  {
   "cell_type": "code",
   "execution_count": null,
   "id": "e10bffdb-0463-4c1c-afc9-6f85132c0332",
   "metadata": {},
   "outputs": [],
   "source": []
  },
  {
   "cell_type": "code",
   "execution_count": 40,
   "id": "fa7e81ba-eae1-45b0-bd9d-c283166a0169",
   "metadata": {},
   "outputs": [
    {
     "name": "stdout",
     "output_type": "stream",
     "text": [
      "Configuration loaded.\n"
     ]
    }
   ],
   "source": [
    "# Using absolute paths is safer for notebooks. Ensure this path is correct for your system.\n",
    "PROCESSED_DATA_PATH = '/Users/ashishrathore/Aarogya-AI/data/processed/master_health_data_v2.csv'\n",
    "CREDENTIALS_FILE = '/Users/ashishrathore/Aarogya-AI/crack-decorator-468911-s1-5ab46e3aea4b.json'\n",
    "\n",
    "# --- AI Model Parameters ---\n",
    "GEMINI_MODEL_NAME = \"gemini-1.5-flash\"\n",
    "\n",
    "# --- System Prompt Engineering ---\n",
    "# This prompt is the \"brain\" of our summarizer. It's carefully engineered to guide the AI's behavior, tone, and output format.\n",
    "SUMMARY_SYSTEM_PROMPT = \"\"\"\n",
    "You are 'Aarogya-AI', a compassionate and intelligent medical report summarizer.\n",
    "Your role is to translate complex medical data into a simple, easy-to-understand summary for a patient who has no medical knowledge.\n",
    "\n",
    "**Instructions:**\n",
    "1.  **Tone:** Be reassuring, positive, and clear. Avoid alarming language.\n",
    "2.  **Structure:**\n",
    "    *   Start with a general overview of the report.\n",
    "    *   Highlight the key findings, starting with the most important one.\n",
    "    *   For each finding, explain what the test measures in very simple terms (e.g., \"Cholesterol is a type of fat in your blood\").\n",
    "    *   Do NOT provide any medical advice, diagnosis, or treatment recommendations. This is critical.\n",
    "3.  **Content:**\n",
    "    *   Focus only on the data provided. Do not invent any information.\n",
    "    *   Mention both normal and out-of-range results to give a balanced view.\n",
    "4.  **Format:** Use clear paragraphs. Use bullet points for listing the test results to make it easy to read.\n",
    "5.  **Disclaimer:** ALWAYS end the summary with the following disclaimer:\n",
    "    \"**Disclaimer:** This is an AI-generated summary and not a substitute for professional medical advice. Please consult with your doctor to discuss your results in detail.\"\n",
    "\"\"\"\n",
    "\n",
    "print(\"Configuration loaded.\")"
   ]
  },
  {
   "cell_type": "markdown",
   "id": "2056ff5c-acdd-4fdc-831c-5210b78577da",
   "metadata": {},
   "source": [
    "## 2. Core Logic: The Toolbox\n",
    "\n",
    "Here, we define our reusable functions. This modular approach is key to writing clean, maintainable, and testable code. Each function has a specific, well-defined purpose and clear documentation."
   ]
  },
  {
   "cell_type": "code",
   "execution_count": null,
   "id": "6bc3dbf6-09e8-413c-aaa4-911661b75ee4",
   "metadata": {},
   "outputs": [],
   "source": []
  },
  {
   "cell_type": "code",
   "execution_count": 43,
   "id": "c49c95af-a7e6-41f1-958b-74444de218c6",
   "metadata": {},
   "outputs": [
    {
     "name": "stdout",
     "output_type": "stream",
     "text": [
      "Core logic functions defined.\n"
     ]
    }
   ],
   "source": [
    "def setup_ai_voice(credentials_path: str, model_name: str) -> Optional[genai.GenerativeModel]:\n",
    "    \"\"\"\n",
    "    Configures and initializes the Gemini Generative Model.\n",
    "\n",
    "    Args:\n",
    "        credentials_path (str): Path to the Google Cloud credentials JSON file.\n",
    "        model_name (str): The name of the Gemini model to use.\n",
    "\n",
    "    Returns:\n",
    "        Optional[genai.GenerativeModel]: An initialized model object, or None if setup fails.\n",
    "    \"\"\"\n",
    "    try:\n",
    "        os.environ['GOOGLE_APPLICATION_CREDENTIALS'] = credentials_path\n",
    "        genai.configure(transport='rest')\n",
    "        model = genai.GenerativeModel(model_name)\n",
    "        print(\"✅ AI Voice (Gemini Model) initialized successfully.\")\n",
    "        return model\n",
    "    except Exception as e:\n",
    "        print(f\"❌ Error initializing Gemini Model: {e}\")\n",
    "        return None\n",
    "\n",
    "def format_patient_data_for_prompt(patient_df: pd.DataFrame) -> str:\n",
    "    \"\"\"\n",
    "    Formats a patient's test results into a simple string for the AI prompt.\n",
    "    \"\"\"\n",
    "    if patient_df.empty:\n",
    "        return \"No data available for this patient.\"\n",
    "    \n",
    "    # Use .iloc[0] safely to get the first patient's name; handle potential missing names.\n",
    "    patient_name = patient_df['patient_name'].iloc[0] if not pd.isna(patient_df['patient_name'].iloc[0]) else \"Valued Patient\"\n",
    "    report_text = f\"Patient Name: {patient_name}\\n\\nTest Results:\\n\"\n",
    "    \n",
    "    for _, row in patient_df.iterrows():\n",
    "        # Use .get() for robust access to potentially missing columns.\n",
    "        unit = row.get('unit', '')\n",
    "        ref_range = row.get('reference_range', 'N/A')\n",
    "        # Ensure we don't print 'nan' if values are missing.\n",
    "        report_text += f\"- {row['test_name']}: {row['result']} {unit if not pd.isna(unit) else ''} (Normal Range: {ref_range if not pd.isna(ref_range) else 'N/A'})\\n\"\n",
    "        \n",
    "    return report_text\n",
    "\n",
    "def generate_summary(model: genai.GenerativeModel, patient_data_text: str, system_prompt: str) -> str:\n",
    "    \"\"\"\n",
    "    Sends the patient data to the Gemini model and returns the summary.\n",
    "    \"\"\"\n",
    "    if not model:\n",
    "        return \"Error: The AI model is not available.\"\n",
    "        \n",
    "    try:\n",
    "        print(\"\\n⏳ Sending data to the AI Voice for summarization...\")\n",
    "        # Combining the system prompt and user data is the standard way.\n",
    "        full_prompt = [system_prompt, patient_data_text]\n",
    "        response = model.generate_content(full_prompt)\n",
    "        return response.text\n",
    "    except Exception as e:\n",
    "        return f\"❌ An error occurred during summary generation: {e}\"\n",
    "\n",
    "print(\"Core logic functions defined.\")"
   ]
  },
  {
   "cell_type": "markdown",
   "id": "babe65c9-582f-418b-a0f1-7cd68582dfae",
   "metadata": {},
   "source": [
    "## 3. Main Execution: The Factory Floor\n",
    "\n",
    "This is where we run the pipeline. We call our core functions in a logical sequence to produce the final result. The code here is simple and easy to follow because the complex logic is encapsulated within the functions above."
   ]
  },
  {
   "cell_type": "code",
   "execution_count": null,
   "id": "c80313e1-42e7-40a3-abc5-a23a27f87716",
   "metadata": {},
   "outputs": [],
   "source": []
  },
  {
   "cell_type": "code",
   "execution_count": 48,
   "id": "76d5d782-5f0c-4f6d-81af-299328b31fe7",
   "metadata": {},
   "outputs": [
    {
     "name": "stdout",
     "output_type": "stream",
     "text": [
      "--- [Step 1/4] Initializing the AI Voice... ---\n",
      "✅ AI Voice (Gemini Model) initialized successfully.\n",
      "\n",
      "--- [Step 2/4] Loading data from /Users/ashishrathore/Aarogya-AI/data/processed/master_health_data_v2.csv... ---\n",
      "✅ Loaded 1581 records.\n",
      "\n",
      "--- [Step 3/4] Selecting a sample patient... ---\n",
      "Sample patient data selected from file: ee9d0cc9a6ff0ce1775ac233da86d3f2.jpg\n",
      "\n",
      "--- [Step 4/4] Generating summary... ---\n",
      "\n",
      "--- [Input Data for AI] ---\n",
      "Patient Name: Yashvi M. Patel\n",
      "\n",
      "Test Results:\n",
      "- Hemoglobin (Hb): 13.0 g/dL (Normal Range: 13.00-17.00)\n",
      "- Total RBC count: 5.0 mill/cumm (Normal Range: 4.50-5.50)\n",
      "- Packed Cell Volume (PCV): 45.0 % (Normal Range: 40-50)\n",
      "- Mean Corpuscular Volume (MCV): 100.0 fL (Normal Range: 83-101)\n",
      "- MCH: 30.0 pg (Normal Range: 27-32)\n",
      "- MCHC: nan g/dL (Normal Range: 32.50-34.50)\n",
      "- RDW: nan  (Normal Range: N/A)\n",
      "- Total WBC count: 12.0 cumm (Normal Range: 11.60-14.00)\n",
      "- Neutrophils: 60.0 % (Normal Range: 50-62)\n",
      "- Lymphocytes: 30.0 % (Normal Range: 20-40)\n",
      "- Eosinophils: 2.0 % (Normal Range: 00-06)\n",
      "- Monocytes: 8.0 % (Normal Range: 00-10)\n",
      "- Basophils: 0.0 % (Normal Range: 00-02)\n",
      "- Platelet Count: 20000.0 cumm (Normal Range: 150000-410000)\n",
      "\n",
      "\n",
      "⏳ Sending data to the AI Voice for summarization...\n",
      "\n",
      "======================================================\n",
      "                 Aarogya-AI Summary                 \n",
      "======================================================\n",
      "Hello Yashvi,\n",
      "\n",
      "This is a summary of your recent blood test results.  The report shows several blood components that are within the normal range and some that are outside of the normal range.  It's important to remember that these results are just one piece of the puzzle when it comes to understanding your overall health.\n",
      "\n",
      "Let's go through the key findings:\n",
      "\n",
      "* **Hemoglobin (Hb):** This measures the amount of hemoglobin in your blood, which carries oxygen throughout your body. Your hemoglobin level of 13.0 g/dL is within the normal range (13.00-17.00 g/dL).\n",
      "\n",
      "* **Total Red Blood Cell (RBC) Count:** This test counts the number of red blood cells in your blood. Your count of 5.0 mill/cumm falls within the normal range (4.50-5.50 mill/cumm).\n",
      "\n",
      "* **Packed Cell Volume (PCV):** This measures the percentage of your blood volume that is made up of red blood cells. Your PCV of 45.0% is within the normal range (40-50%).\n",
      "\n",
      "* **Mean Corpuscular Volume (MCV):** This measures the average size of your red blood cells.  Your MCV of 100.0 fL is within the normal range (83-101 fL).\n",
      "\n",
      "* **MCH (Mean Corpuscular Hemoglobin):** This measures the average amount of hemoglobin in each red blood cell. Your MCH of 30.0 pg is within the normal range (27-32 pg).\n",
      "\n",
      "* **MCHC (Mean Corpuscular Hemoglobin Concentration):** This measures the average concentration of hemoglobin in your red blood cells.  This result is not available (nan g/dL) in your report. The normal range is 32.50-34.50 g/dL.\n",
      "\n",
      "* **RDW (Red Cell Distribution Width):** This measures the variation in the size of your red blood cells; this result is not available (nan) in your report.\n",
      "\n",
      "\n",
      "* **Total White Blood Cell (WBC) Count:** This measures the number of white blood cells in your blood, which fight infection. Your WBC count of 12.0 cumm is within the normal range (11.60-14.00 cumm).  The different types of white blood cells (neutrophils, lymphocytes, eosinophils, monocytes, and basophils) were all within or close to their normal ranges.\n",
      "\n",
      "* **Platelet Count:** This measures the number of platelets in your blood, which help with blood clotting. Your platelet count of 20000.0 cumm is significantly below the normal range (150000-410000 cumm).\n",
      "\n",
      "\n",
      "**Disclaimer:** This is an AI-generated summary and not a substitute for professional medical advice. Please consult with your doctor to discuss your results in detail.\n",
      "\n",
      "======================================================\n"
     ]
    }
   ],
   "source": [
    "# 1. Initialize the AI Voice\n",
    "print(\"--- [Step 1/4] Initializing the AI Voice... ---\")\n",
    "ai_voice = setup_ai_voice(credentials_path=CREDENTIALS_FILE, model_name=GEMINI_MODEL_NAME)\n",
    "\n",
    "if ai_voice:\n",
    "    # 2. Load the data\n",
    "    print(f\"\\n--- [Step 2/4] Loading data from {PROCESSED_DATA_PATH}... ---\")\n",
    "    try:\n",
    "        df = pd.read_csv(PROCESSED_DATA_PATH)\n",
    "        print(f\"✅ Loaded {len(df)} records.\")\n",
    "        \n",
    "        # 3. Select a sample patient to summarize\n",
    "        if not df.empty and 'source_file' in df.columns:\n",
    "            print(\"\\n--- [Step 3/4] Selecting a sample patient... ---\")\n",
    "            # Select all records from the first file found in the dataset\n",
    "            sample_file_name = df['source_file'].iloc[0]\n",
    "            patient_df = df[df['source_file'] == sample_file_name]\n",
    "            \n",
    "            print(f\"Sample patient data selected from file: {sample_file_name}\")\n",
    "\n",
    "            # 4. Format data and generate summary\n",
    "            print(\"\\n--- [Step 4/4] Generating summary... ---\")\n",
    "            patient_prompt_data = format_patient_data_for_prompt(patient_df)\n",
    "            \n",
    "            print(\"\\n--- [Input Data for AI] ---\")\n",
    "            print(patient_prompt_data)\n",
    "            \n",
    "            summary = generate_summary(ai_voice, patient_prompt_data, SUMMARY_SYSTEM_PROMPT)\n",
    "            \n",
    "            # Display the final, formatted summary\n",
    "            print(\"\\n\" + \"=\"*54)\n",
    "            print(\" \" * 17 + \"Aarogya-AI Summary\" + \" \" * 17)\n",
    "            print(\"=\"*54)\n",
    "            print(summary)\n",
    "            print(\"=\"*54)\n",
    "        else:\n",
    "            print(\"❌ The data file is empty or missing the required 'source_file' column.\")\n",
    "\n",
    "    except FileNotFoundError:\n",
    "        print(f\"❌ Error: Could not find the data file at {PROCESSED_DATA_PATH}\")"
   ]
  },
  {
   "cell_type": "code",
   "execution_count": null,
   "id": "eb1b0900-9d07-4bb2-a501-268f5fcb4045",
   "metadata": {},
   "outputs": [],
   "source": []
  },
  {
   "cell_type": "code",
   "execution_count": null,
   "id": "ec41189d-7680-4dd0-813d-df9f4c3d2bef",
   "metadata": {},
   "outputs": [],
   "source": []
  },
  {
   "cell_type": "code",
   "execution_count": null,
   "id": "915eff71-ec8d-40bc-afc8-22b42af3de21",
   "metadata": {},
   "outputs": [],
   "source": []
  },
  {
   "cell_type": "code",
   "execution_count": null,
   "id": "648fbab1-6638-4aba-989d-51f9c23de207",
   "metadata": {},
   "outputs": [],
   "source": []
  },
  {
   "cell_type": "code",
   "execution_count": null,
   "id": "3cf43cf7-0a5c-4b44-9488-955611811ce4",
   "metadata": {},
   "outputs": [],
   "source": []
  }
 ],
 "metadata": {
  "kernelspec": {
   "display_name": "Python 3 (m1env)",
   "language": "python",
   "name": "m1env"
  },
  "language_info": {
   "codemirror_mode": {
    "name": "ipython",
    "version": 3
   },
   "file_extension": ".py",
   "mimetype": "text/x-python",
   "name": "python",
   "nbconvert_exporter": "python",
   "pygments_lexer": "ipython3",
   "version": "3.9.21"
  }
 },
 "nbformat": 4,
 "nbformat_minor": 5
}
